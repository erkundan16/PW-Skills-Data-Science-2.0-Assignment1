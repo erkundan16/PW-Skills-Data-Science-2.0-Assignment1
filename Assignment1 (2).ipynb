{
 "cells": [
  {
   "cell_type": "raw",
   "id": "6e345028-e560-4443-9c95-9fbd2e2b04c9",
   "metadata": {},
   "source": [
    "Q1"
   ]
  },
  {
   "cell_type": "raw",
   "id": "58e661ce-60bf-4505-9062-8ef7a5bbffc6",
   "metadata": {},
   "source": [
    "Q1. Create one variable containing following type of data:\n",
    "(i) string\n",
    "(ii) list\n",
    "(iii) float\n",
    "(iv) tuple"
   ]
  },
  {
   "cell_type": "raw",
   "id": "2b176bb7-4a56-495e-a2bf-46bb6692c51b",
   "metadata": {},
   "source": [
    "i"
   ]
  },
  {
   "cell_type": "code",
   "execution_count": 4,
   "id": "7e59aa06-7e12-44ee-b7a4-0f57b5ffb3a1",
   "metadata": {},
   "outputs": [],
   "source": [
    "s=\"Kundan\""
   ]
  },
  {
   "cell_type": "code",
   "execution_count": 5,
   "id": "a866cda2-c78d-46df-8223-5949151d6425",
   "metadata": {},
   "outputs": [
    {
     "data": {
      "text/plain": [
       "str"
      ]
     },
     "execution_count": 5,
     "metadata": {},
     "output_type": "execute_result"
    }
   ],
   "source": [
    "type(s)"
   ]
  },
  {
   "cell_type": "raw",
   "id": "344a1a5f-4c00-496e-8831-ef2defe219e7",
   "metadata": {},
   "source": [
    "ii"
   ]
  },
  {
   "cell_type": "code",
   "execution_count": 6,
   "id": "b08f1b8f-43a4-4263-b824-93a5a97ef6cb",
   "metadata": {},
   "outputs": [],
   "source": [
    "l=[12,14,48,2,\"kundan\",3+7j,36.2,'PW Skills']"
   ]
  },
  {
   "cell_type": "code",
   "execution_count": 7,
   "id": "7b8e8501-f5da-4b00-89e5-18f54dd7cea2",
   "metadata": {},
   "outputs": [
    {
     "data": {
      "text/plain": [
       "list"
      ]
     },
     "execution_count": 7,
     "metadata": {},
     "output_type": "execute_result"
    }
   ],
   "source": [
    "type(l)"
   ]
  },
  {
   "cell_type": "raw",
   "id": "1cd0061d-e4bf-4c53-9a32-f31e18caeec2",
   "metadata": {},
   "source": [
    "iii"
   ]
  },
  {
   "cell_type": "code",
   "execution_count": 8,
   "id": "5de20721-798f-4f1c-b4f8-2d041781bde3",
   "metadata": {},
   "outputs": [],
   "source": [
    "f=15.5"
   ]
  },
  {
   "cell_type": "code",
   "execution_count": 9,
   "id": "c7171720-0bff-454c-87d5-86003396be02",
   "metadata": {},
   "outputs": [
    {
     "data": {
      "text/plain": [
       "float"
      ]
     },
     "execution_count": 9,
     "metadata": {},
     "output_type": "execute_result"
    }
   ],
   "source": [
    "type(f)"
   ]
  },
  {
   "cell_type": "raw",
   "id": "c1a6b311-6170-4467-b47a-8105e2cffd1c",
   "metadata": {},
   "source": [
    "iv"
   ]
  },
  {
   "cell_type": "code",
   "execution_count": 16,
   "id": "df519bda-705e-4421-904a-6beca81a33f8",
   "metadata": {},
   "outputs": [],
   "source": [
    "t=12,14,48.5,[12,45,145]"
   ]
  },
  {
   "cell_type": "code",
   "execution_count": 17,
   "id": "3405d78b-9790-48d2-9dd4-743d7fedb2af",
   "metadata": {},
   "outputs": [
    {
     "data": {
      "text/plain": [
       "tuple"
      ]
     },
     "execution_count": 17,
     "metadata": {},
     "output_type": "execute_result"
    }
   ],
   "source": [
    "type(t)"
   ]
  },
  {
   "cell_type": "code",
   "execution_count": null,
   "id": "0e6a953d-55f6-4b23-a604-c3fd918fad27",
   "metadata": {},
   "outputs": [],
   "source": []
  },
  {
   "cell_type": "code",
   "execution_count": null,
   "id": "d193e0b8-c424-434f-9063-b2943e4b49f7",
   "metadata": {},
   "outputs": [],
   "source": []
  },
  {
   "cell_type": "code",
   "execution_count": null,
   "id": "674c7801-a55c-4cdc-b81d-799b689b16a0",
   "metadata": {},
   "outputs": [],
   "source": [
    "Q2"
   ]
  },
  {
   "cell_type": "code",
   "execution_count": null,
   "id": "5e0895f2",
   "metadata": {},
   "outputs": [],
   "source": []
  },
  {
   "cell_type": "raw",
   "id": "3ee9d48e-22ce-4a71-826f-d1ad1550b7a0",
   "metadata": {},
   "source": [
    "Q2. Given are some following variables containing data:\n",
    "(i) var1 = ' '\n",
    "(ii) var2 = '[ DS , ML , Python]'\n",
    "(iii) var3 = [ 'DS' , 'ML' , 'Python' ]\n",
    "(iv) var4 = 1.\n",
    "What will be the data type of the above given variable."
   ]
  },
  {
   "cell_type": "raw",
   "id": "0d17172a-273d-4779-bf37-97efd039b708",
   "metadata": {},
   "source": [
    "i"
   ]
  },
  {
   "cell_type": "code",
   "execution_count": 37,
   "id": "82a3cc2f-8f4e-4c4a-ad45-19a58dc9f17a",
   "metadata": {},
   "outputs": [],
   "source": [
    "var1 = ' '"
   ]
  },
  {
   "cell_type": "code",
   "execution_count": 38,
   "id": "c8f8cb51-a466-49bc-b558-f6d23d2c2e3d",
   "metadata": {},
   "outputs": [
    {
     "data": {
      "text/plain": [
       "str"
      ]
     },
     "execution_count": 38,
     "metadata": {},
     "output_type": "execute_result"
    }
   ],
   "source": [
    "type(var1)"
   ]
  },
  {
   "cell_type": "raw",
   "id": "92faf84d-b2f6-4467-b4d2-ae3c87d4f8b4",
   "metadata": {},
   "source": [
    "ii"
   ]
  },
  {
   "cell_type": "code",
   "execution_count": 33,
   "id": "12e72a51-f089-43b0-8a95-0b84a08eccea",
   "metadata": {},
   "outputs": [],
   "source": [
    "var2 = '[ DS , ML , Python]'"
   ]
  },
  {
   "cell_type": "code",
   "execution_count": 35,
   "id": "b7bf9f68-32ae-4aa1-af56-8df57b9b6bf8",
   "metadata": {},
   "outputs": [
    {
     "data": {
      "text/plain": [
       "str"
      ]
     },
     "execution_count": 35,
     "metadata": {},
     "output_type": "execute_result"
    }
   ],
   "source": [
    "type(var2)"
   ]
  },
  {
   "cell_type": "raw",
   "id": "33ead2d6-0cdc-4801-a101-ee78d98205e1",
   "metadata": {},
   "source": [
    "iii"
   ]
  },
  {
   "cell_type": "code",
   "execution_count": 34,
   "id": "cd97af21-3004-473b-833b-6c4a2257cb96",
   "metadata": {},
   "outputs": [],
   "source": [
    " var3 = [ 'DS' , 'ML' , 'Python' ]"
   ]
  },
  {
   "cell_type": "code",
   "execution_count": 36,
   "id": "fb2429dc-0d58-4a32-9b85-43b0a6a4c158",
   "metadata": {},
   "outputs": [
    {
     "data": {
      "text/plain": [
       "list"
      ]
     },
     "execution_count": 36,
     "metadata": {},
     "output_type": "execute_result"
    }
   ],
   "source": [
    "type(var3)"
   ]
  },
  {
   "cell_type": "raw",
   "id": "55661b0a-889d-4a24-8d4b-301bbd6f7014",
   "metadata": {},
   "source": [
    "iv"
   ]
  },
  {
   "cell_type": "code",
   "execution_count": 28,
   "id": "c78dbd99-dfb9-43f6-b5c5-df95431de9c2",
   "metadata": {},
   "outputs": [],
   "source": [
    " var4 = 1."
   ]
  },
  {
   "cell_type": "code",
   "execution_count": 29,
   "id": "4c1aad02-fb20-4b8c-8bb5-71be0b399caa",
   "metadata": {},
   "outputs": [
    {
     "data": {
      "text/plain": [
       "float"
      ]
     },
     "execution_count": 29,
     "metadata": {},
     "output_type": "execute_result"
    }
   ],
   "source": [
    "type(var4)"
   ]
  },
  {
   "cell_type": "code",
   "execution_count": null,
   "id": "1d8429b9-5d40-4759-84c7-fec1232b873b",
   "metadata": {},
   "outputs": [],
   "source": []
  },
  {
   "cell_type": "code",
   "execution_count": null,
   "id": "1bc69b79-3356-493f-8090-d55668d80caa",
   "metadata": {},
   "outputs": [],
   "source": []
  },
  {
   "cell_type": "code",
   "execution_count": null,
   "id": "8d479a53-d809-4379-b730-659bfc3878e4",
   "metadata": {},
   "outputs": [],
   "source": [
    "Q3"
   ]
  },
  {
   "cell_type": "raw",
   "id": "7fee3770-b39c-450e-981e-34e9c44edc42",
   "metadata": {},
   "source": [
    "Q3. Explain the use of the following operators using an example:\n",
    "(i) /\n",
    "(ii) %\n",
    "(iii) //\n",
    "(iv) **"
   ]
  },
  {
   "cell_type": "raw",
   "id": "b668423a-3b42-41ab-b706-5911cd0c1191",
   "metadata": {},
   "source": [
    "i.\n",
    "ANS - \n",
    "      ( / ) Division operator , which is use to perform division operatin of numbers. Example below"
   ]
  },
  {
   "cell_type": "code",
   "execution_count": 39,
   "id": "d7f01f16-5b28-4714-be7c-4282e18caeed",
   "metadata": {},
   "outputs": [
    {
     "name": "stdout",
     "output_type": "stream",
     "text": [
      "2.5\n"
     ]
    }
   ],
   "source": [
    "x = 5\n",
    "y = 2\n",
    "result = x/y\n",
    "print(result)"
   ]
  },
  {
   "cell_type": "raw",
   "id": "837d0109-4991-41d7-95c2-0d39d35d54c8",
   "metadata": {},
   "source": [
    "ii. \n",
    "ANS -\n",
    "     ( % ) Modulus operator , which is use to show the remainder parts of the division. Example below"
   ]
  },
  {
   "cell_type": "code",
   "execution_count": 40,
   "id": "bed176c2-1b2a-4f5e-a69c-6ad955a3548f",
   "metadata": {},
   "outputs": [
    {
     "name": "stdout",
     "output_type": "stream",
     "text": [
      "1\n"
     ]
    }
   ],
   "source": [
    "x =5 \n",
    "y =2\n",
    "rem = x%y\n",
    "print(rem)"
   ]
  },
  {
   "cell_type": "raw",
   "id": "2e6097da-20ac-41c4-8a3b-959167c4c84e",
   "metadata": {},
   "source": [
    "iii. \n",
    "ANS -\n",
    "      ( // ) floor division operator , which is use to only show the quotient. Example below "
   ]
  },
  {
   "cell_type": "code",
   "execution_count": 41,
   "id": "2b09600e-03ab-42b8-b1a2-e26534c47c73",
   "metadata": {},
   "outputs": [
    {
     "name": "stdout",
     "output_type": "stream",
     "text": [
      "2\n"
     ]
    }
   ],
   "source": [
    "x =5 \n",
    "y = 2\n",
    "FValue = x//y\n",
    "print(FValue)"
   ]
  },
  {
   "cell_type": "raw",
   "id": "d9e2e746-fc41-4d94-97c9-a6d333ffc77f",
   "metadata": {},
   "source": [
    "iv.\n",
    "ANS -  \n",
    "     ( ** ) Exponentiation operator , which is use to find the value of any power. Example below"
   ]
  },
  {
   "cell_type": "code",
   "execution_count": 42,
   "id": "7dd5cfb3-8edd-4164-a87c-3a78510c5d25",
   "metadata": {},
   "outputs": [
    {
     "name": "stdout",
     "output_type": "stream",
     "text": [
      "32\n"
     ]
    }
   ],
   "source": [
    "x = 5\n",
    "y = 2\n",
    "Expo = y**x\n",
    "print(Expo)"
   ]
  },
  {
   "cell_type": "code",
   "execution_count": null,
   "id": "8798f44a-1d88-46d3-9025-3f7c968df3f1",
   "metadata": {},
   "outputs": [],
   "source": []
  },
  {
   "cell_type": "code",
   "execution_count": null,
   "id": "b1b1e193-e844-4d7c-be7b-6b8189c8f7cd",
   "metadata": {},
   "outputs": [],
   "source": []
  },
  {
   "cell_type": "raw",
   "id": "dfff57f0-9d17-4002-ba65-294310cee94f",
   "metadata": {},
   "source": [
    "Q4"
   ]
  },
  {
   "cell_type": "raw",
   "id": "5f4548c8-7d5d-4567-9edb-8faac33f5c3b",
   "metadata": {},
   "source": [
    "Q4. Create a list of length 10 of your choice containing multiple types of data. Using for loop print the element and its data type."
   ]
  },
  {
   "cell_type": "code",
   "execution_count": 51,
   "id": "d956df35-ece9-4b9d-b94b-5cee2250711b",
   "metadata": {},
   "outputs": [
    {
     "name": "stdout",
     "output_type": "stream",
     "text": [
      "12 <class 'int'>\n",
      "15 <class 'int'>\n",
      "kundan <class 'str'>\n",
      "pwskills <class 'str'>\n",
      "33.6 <class 'float'>\n",
      "(5+6j) <class 'complex'>\n"
     ]
    }
   ],
   "source": [
    "l = [12,15,'kundan','pwskills',33.6,5+6j]\n",
    "for x in l:\n",
    "    print(x ,type(x))"
   ]
  },
  {
   "cell_type": "code",
   "execution_count": null,
   "id": "8c4455ac-1127-4666-907e-2ffac09f3c90",
   "metadata": {},
   "outputs": [],
   "source": []
  },
  {
   "cell_type": "code",
   "execution_count": null,
   "id": "c308b041-547a-493e-84da-a9e00847a223",
   "metadata": {},
   "outputs": [],
   "source": []
  },
  {
   "cell_type": "raw",
   "id": "83ce9fd7-de5d-4bb4-8da7-b22d357cf3fd",
   "metadata": {},
   "source": [
    "Q5"
   ]
  },
  {
   "cell_type": "raw",
   "id": "4f000308-a8c5-4346-a5d6-5216046ea439",
   "metadata": {},
   "source": [
    "Q5. Using a while loop, verify if the number A is purely divisible by number B and if so then how many times it can be divisible."
   ]
  },
  {
   "cell_type": "code",
   "execution_count": 63,
   "id": "7fffc1c6-7d10-4efe-8a44-3a05591c895b",
   "metadata": {},
   "outputs": [
    {
     "name": "stdout",
     "output_type": "stream",
     "text": [
      "Number A is divisible by number B, and it can be divided 2 times.\n"
     ]
    }
   ],
   "source": [
    "A =18\n",
    "B =3\n",
    "\n",
    "count = 0\n",
    "while A % B == 0:\n",
    "    A = A / B\n",
    "    count += 1\n",
    "\n",
    "if count > 0:\n",
    "    print(f\"Number A is divisible by number B, and it can be divided {count} times.\")\n",
    "else:\n",
    "    print(\"Number A is not divisible by number B.\")\n"
   ]
  },
  {
   "cell_type": "code",
   "execution_count": null,
   "id": "570c720f-ba6e-4ce6-b6fe-972830067745",
   "metadata": {},
   "outputs": [],
   "source": []
  },
  {
   "cell_type": "code",
   "execution_count": null,
   "id": "d49937c0-a872-4421-90d5-00caef27f111",
   "metadata": {},
   "outputs": [],
   "source": []
  },
  {
   "cell_type": "raw",
   "id": "f6d62b99-81ca-4fda-9d7b-a70987b18092",
   "metadata": {},
   "source": [
    "Q6"
   ]
  },
  {
   "cell_type": "raw",
   "id": "62283ca2-0c45-46c7-b787-5d248347bd1b",
   "metadata": {},
   "source": [
    "Q6. Create a list containing 25 int type data. Using for loop and if-else condition print if the element is divisible by 3 or not."
   ]
  },
  {
   "cell_type": "code",
   "execution_count": 68,
   "id": "05326603-9553-4067-9b80-d250368cd28c",
   "metadata": {},
   "outputs": [
    {
     "name": "stdout",
     "output_type": "stream",
     "text": [
      "2 is not divisible by 3.\n",
      "7 is not divisible by 3.\n",
      "12 is divisible by 3.\n",
      "9 is divisible by 3.\n",
      "16 is not divisible by 3.\n",
      "21 is divisible by 3.\n",
      "27 is divisible by 3.\n",
      "31 is not divisible by 3.\n",
      "36 is divisible by 3.\n",
      "41 is not divisible by 3.\n",
      "45 is divisible by 3.\n",
      "50 is not divisible by 3.\n",
      "55 is not divisible by 3.\n",
      "60 is divisible by 3.\n",
      "65 is not divisible by 3.\n",
      "70 is not divisible by 3.\n",
      "75 is divisible by 3.\n",
      "80 is not divisible by 3.\n",
      "85 is not divisible by 3.\n",
      "90 is divisible by 3.\n",
      "95 is not divisible by 3.\n",
      "100 is not divisible by 3.\n",
      "105 is divisible by 3.\n",
      "110 is not divisible by 3.\n",
      "115 is not divisible by 3.\n"
     ]
    }
   ],
   "source": [
    "numbers = [2, 7, 12, 9, 16, 21, 27, 31, 36, 41, 45, 50, 55, 60, 65, 70, 75, 80, 85, 90, 95, 100, 105, 110, 115]\n",
    "\n",
    "for num in numbers:\n",
    "    if num % 3 == 0:\n",
    "        print(f\"{num} is divisible by 3.\")\n",
    "    else:\n",
    "        print(f\"{num} is not divisible by 3.\")\n"
   ]
  },
  {
   "cell_type": "code",
   "execution_count": null,
   "id": "b184bb79-6b52-4eee-9315-b1512186d886",
   "metadata": {},
   "outputs": [],
   "source": []
  },
  {
   "cell_type": "code",
   "execution_count": null,
   "id": "d9de577f-60a5-4f80-b8a3-351c1c5c6d7a",
   "metadata": {},
   "outputs": [],
   "source": []
  },
  {
   "cell_type": "raw",
   "id": "b1554fed-2bda-463d-92e4-0d041155fecc",
   "metadata": {},
   "source": [
    "Q7"
   ]
  },
  {
   "cell_type": "raw",
   "id": "71e4d009-b18a-414c-8595-d5652f7aea59",
   "metadata": {},
   "source": [
    "Q7. What do you understand about mutable and immutable data types? Give examples for both showing\n",
    "this property."
   ]
  },
  {
   "cell_type": "raw",
   "id": "263833d1-87a6-4192-af7b-d2e7427a5739",
   "metadata": {},
   "source": [
    "mutable  : - \n",
    "            mutable that means, \"which type of data type, we can access the data and modify the data that is called mutable\"  Example given below"
   ]
  },
  {
   "cell_type": "code",
   "execution_count": 69,
   "id": "0d35c7c5-d463-432b-8e79-1d92652ae1bb",
   "metadata": {},
   "outputs": [],
   "source": [
    "l= [12,15,'kundan',3.3]"
   ]
  },
  {
   "cell_type": "code",
   "execution_count": 71,
   "id": "ea141ce3-f18f-42dd-98f2-cf7e331ff430",
   "metadata": {},
   "outputs": [
    {
     "data": {
      "text/plain": [
       "12"
      ]
     },
     "execution_count": 71,
     "metadata": {},
     "output_type": "execute_result"
    }
   ],
   "source": [
    "l[0]"
   ]
  },
  {
   "cell_type": "code",
   "execution_count": 72,
   "id": "68059ccc-91a6-4d1c-8d96-5c9a0c75ff92",
   "metadata": {},
   "outputs": [],
   "source": [
    "l[0]=5"
   ]
  },
  {
   "cell_type": "code",
   "execution_count": 73,
   "id": "8254866c-57cd-400c-8595-9ea9a339c5bf",
   "metadata": {},
   "outputs": [
    {
     "data": {
      "text/plain": [
       "[5, 15, 'kundan', 3.3]"
      ]
     },
     "execution_count": 73,
     "metadata": {},
     "output_type": "execute_result"
    }
   ],
   "source": [
    "l"
   ]
  },
  {
   "cell_type": "code",
   "execution_count": null,
   "id": "5a2dd01a-ce55-4c3d-a922-20c65399b97e",
   "metadata": {},
   "outputs": [],
   "source": []
  },
  {
   "cell_type": "raw",
   "id": "1045470e-d3e5-4f50-90bc-ae06b52c5a3c",
   "metadata": {},
   "source": [
    "Immutable : - \n",
    "              Immutable that means, \"which type of data type, we can access the data but not modify the data that is called mutable\"  Example given below"
   ]
  },
  {
   "cell_type": "code",
   "execution_count": 74,
   "id": "23c9e139-3ac7-4982-9b21-8243dd5fcdd7",
   "metadata": {},
   "outputs": [],
   "source": [
    "k=\"pwskills\""
   ]
  },
  {
   "cell_type": "code",
   "execution_count": 75,
   "id": "24dfa6f7-b128-49d6-a5b7-e7dd3ed672bd",
   "metadata": {},
   "outputs": [
    {
     "data": {
      "text/plain": [
       "'s'"
      ]
     },
     "execution_count": 75,
     "metadata": {},
     "output_type": "execute_result"
    }
   ],
   "source": [
    "k[2]"
   ]
  },
  {
   "cell_type": "code",
   "execution_count": 76,
   "id": "af6ed8ab-2453-4afe-a30c-185b5d44a2c7",
   "metadata": {},
   "outputs": [
    {
     "ename": "NameError",
     "evalue": "name 'd' is not defined",
     "output_type": "error",
     "traceback": [
      "\u001b[0;31m---------------------------------------------------------------------------\u001b[0m",
      "\u001b[0;31mNameError\u001b[0m                                 Traceback (most recent call last)",
      "Cell \u001b[0;32mIn[76], line 1\u001b[0m\n\u001b[0;32m----> 1\u001b[0m k[\u001b[38;5;241m2\u001b[39m]\u001b[38;5;241m=\u001b[39m\u001b[43md\u001b[49m\n",
      "\u001b[0;31mNameError\u001b[0m: name 'd' is not defined"
     ]
    }
   ],
   "source": [
    "k[2]=d"
   ]
  },
  {
   "cell_type": "code",
   "execution_count": null,
   "id": "ff71dc44-b965-40c1-b70e-120fb6fd5439",
   "metadata": {},
   "outputs": [],
   "source": []
  }
 ],
 "metadata": {
  "kernelspec": {
   "display_name": "Python 3 (ipykernel)",
   "language": "python",
   "name": "python3"
  },
  "language_info": {
   "codemirror_mode": {
    "name": "ipython",
    "version": 3
   },
   "file_extension": ".py",
   "mimetype": "text/x-python",
   "name": "python",
   "nbconvert_exporter": "python",
   "pygments_lexer": "ipython3",
   "version": "3.10.8"
  }
 },
 "nbformat": 4,
 "nbformat_minor": 5
}
